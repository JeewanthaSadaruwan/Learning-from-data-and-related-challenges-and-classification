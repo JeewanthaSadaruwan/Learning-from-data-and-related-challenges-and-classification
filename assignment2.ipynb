{
 "cells": [
  {
   "cell_type": "markdown",
   "id": "c6d51566",
   "metadata": {},
   "source": [
    "## Linear Regression"
   ]
  },
  {
   "cell_type": "markdown",
   "id": "8c4a31a5",
   "metadata": {},
   "source": [
    "1. A set of data points ($x_i$, $y_i$) are known to form a line. The ordinary least squares (OLS) is performed on this dataset. The OLS minimizes a loss function which is defined as\n",
    "$$\n",
    "\\frac{1}{N} \\sum_{i=1}^{N} (y_i - \\hat{y}_i)^2\n",
    "$$\n",
    "with $y_i$ and $\\hat{y}_i$ are true and OLS outputs, respectively. The fitted OLS line and data points are shown in Figure 1. It is observed that the OLS fitted line is not aligned to majority of data points.\n",
    "What is the reason behind this?\n",
    "\n",
    "[10 marks]"
   ]
  }
 ],
 "metadata": {
  "language_info": {
   "name": "python"
  }
 },
 "nbformat": 4,
 "nbformat_minor": 5
}
